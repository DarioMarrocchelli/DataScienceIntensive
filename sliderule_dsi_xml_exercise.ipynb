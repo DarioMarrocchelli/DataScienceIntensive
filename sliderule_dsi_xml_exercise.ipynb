{
 "cells": [
  {
   "cell_type": "markdown",
   "metadata": {},
   "source": [
    "# XML example and exercise\n",
    "****\n",
    "+ study examples of accessing nodes in XML tree structure  \n",
    "+ work on exercise to be completed and submitted\n",
    "****\n",
    "+ reference: https://docs.python.org/2.7/library/xml.etree.elementtree.html\n",
    "+ data source: http://www.dbis.informatik.uni-goettingen.de/Mondial\n",
    "****"
   ]
  },
  {
   "cell_type": "code",
   "execution_count": 2,
   "metadata": {
    "collapsed": true
   },
   "outputs": [],
   "source": [
    "from xml.etree import ElementTree as ET\n",
    "import pandas as pd\n",
    "import numpy as np"
   ]
  },
  {
   "cell_type": "markdown",
   "metadata": {},
   "source": [
    "## XML example\n",
    "\n",
    "+ for details about tree traversal and iterators, see https://docs.python.org/2.7/library/xml.etree.elementtree.html"
   ]
  },
  {
   "cell_type": "code",
   "execution_count": 8,
   "metadata": {
    "collapsed": true
   },
   "outputs": [],
   "source": [
    "document_tree = ET.parse( './data/mondial_database_less.xml' )"
   ]
  },
  {
   "cell_type": "code",
   "execution_count": 11,
   "metadata": {
    "collapsed": false
   },
   "outputs": [
    {
     "name": "stdout",
     "output_type": "stream",
     "text": [
      "Albania\n",
      "Greece\n",
      "Macedonia\n",
      "Serbia\n",
      "Montenegro\n",
      "Kosovo\n",
      "Andorra\n"
     ]
    }
   ],
   "source": [
    "# print names of all countries\n",
    "for child in document_tree.getroot():\n",
    "    print child.find('name').text"
   ]
  },
  {
   "cell_type": "code",
   "execution_count": 5,
   "metadata": {
    "collapsed": false
   },
   "outputs": [
    {
     "name": "stdout",
     "output_type": "stream",
     "text": [
      "* Albania: Tirana, Shkodër, Durrës, Vlorë, Elbasan, Korçë\n",
      "* Greece: Komotini, Kavala, Athina, Peiraias, Peristeri, Acharnes, Patra, Kozani, Kerkyra, Ioannina, Thessaloniki, Iraklio, Chania, Ermoupoli, Rhodes, Tripoli, Lamia, Chalkida, Larissa, Volos, Mytilini, Karyes\n",
      "* Macedonia: Skopje, Kumanovo\n",
      "* Serbia: Beograd, Novi Sad, Niš\n",
      "* Montenegro: Podgorica\n",
      "* Kosovo: Prishtine\n",
      "* Andorra: Andorra la Vella\n"
     ]
    }
   ],
   "source": [
    "# print names of all countries and their cities\n",
    "for element in document_tree.iterfind('country'):\n",
    "    print '* ' + element.find('name').text + ':',\n",
    "    capitals_string = ''\n",
    "    for subelement in element.getiterator('city'):\n",
    "        capitals_string += subelement.find('name').text + ', '\n",
    "    print capitals_string[:-2]"
   ]
  },
  {
   "cell_type": "markdown",
   "metadata": {},
   "source": [
    "****\n",
    "## XML exercise\n",
    "\n",
    "Using data in 'data/mondial_database.xml', the examples above, and refering to https://docs.python.org/2.7/library/xml.etree.elementtree.html, find\n",
    "\n",
    "1. 10 countries with the lowest infant mortality rates\n",
    "2. 10 cities with the largest population\n",
    "3. 10 ethnic groups with the largest overall populations (sum of best/latest estimates over all countries)\n",
    "4. name and country of a) longest river, b) largest lake and c) airport at highest elevation"
   ]
  },
  {
   "cell_type": "code",
   "execution_count": 3,
   "metadata": {
    "collapsed": false
   },
   "outputs": [],
   "source": [
    "document = ET.parse( './data/mondial_database.xml' )"
   ]
  },
  {
   "cell_type": "code",
   "execution_count": 22,
   "metadata": {
    "collapsed": false
   },
   "outputs": [
    {
     "name": "stdout",
     "output_type": "stream",
     "text": [
      "(228, 228)\n"
     ]
    },
    {
     "data": {
      "text/html": [
       "<div>\n",
       "<table border=\"1\" class=\"dataframe\">\n",
       "  <thead>\n",
       "    <tr style=\"text-align: right;\">\n",
       "      <th></th>\n",
       "      <th>country</th>\n",
       "      <th>mortality</th>\n",
       "    </tr>\n",
       "  </thead>\n",
       "  <tbody>\n",
       "    <tr>\n",
       "      <th>36</th>\n",
       "      <td>Monaco</td>\n",
       "      <td>1.81</td>\n",
       "    </tr>\n",
       "    <tr>\n",
       "      <th>90</th>\n",
       "      <td>Japan</td>\n",
       "      <td>2.13</td>\n",
       "    </tr>\n",
       "    <tr>\n",
       "      <th>109</th>\n",
       "      <td>Bermuda</td>\n",
       "      <td>2.48</td>\n",
       "    </tr>\n",
       "    <tr>\n",
       "      <th>34</th>\n",
       "      <td>Norway</td>\n",
       "      <td>2.48</td>\n",
       "    </tr>\n",
       "    <tr>\n",
       "      <th>98</th>\n",
       "      <td>Singapore</td>\n",
       "      <td>2.53</td>\n",
       "    </tr>\n",
       "    <tr>\n",
       "      <th>35</th>\n",
       "      <td>Sweden</td>\n",
       "      <td>2.60</td>\n",
       "    </tr>\n",
       "    <tr>\n",
       "      <th>8</th>\n",
       "      <td>Czech Republic</td>\n",
       "      <td>2.63</td>\n",
       "    </tr>\n",
       "    <tr>\n",
       "      <th>72</th>\n",
       "      <td>Hong Kong</td>\n",
       "      <td>2.73</td>\n",
       "    </tr>\n",
       "    <tr>\n",
       "      <th>73</th>\n",
       "      <td>Macao</td>\n",
       "      <td>3.13</td>\n",
       "    </tr>\n",
       "    <tr>\n",
       "      <th>39</th>\n",
       "      <td>Iceland</td>\n",
       "      <td>3.15</td>\n",
       "    </tr>\n",
       "  </tbody>\n",
       "</table>\n",
       "</div>"
      ],
      "text/plain": [
       "            country  mortality\n",
       "36           Monaco       1.81\n",
       "90            Japan       2.13\n",
       "109         Bermuda       2.48\n",
       "34           Norway       2.48\n",
       "98        Singapore       2.53\n",
       "35           Sweden       2.60\n",
       "8    Czech Republic       2.63\n",
       "72        Hong Kong       2.73\n",
       "73            Macao       3.13\n",
       "39          Iceland       3.15"
      ]
     },
     "execution_count": 22,
     "metadata": {},
     "output_type": "execute_result"
    }
   ],
   "source": [
    "# print names of all countries\n",
    "col1 = []\n",
    "col2 = []\n",
    "for child in document.getroot():\n",
    "    if (child.find('infant_mortality') != None) & (child.find('name') != None) :\n",
    "        #print child.find('infant_mortality')\n",
    "        col1.append(child.find('infant_mortality').text)\n",
    "        col2.append(child.find('name').text)\n",
    "d = {'country' : col2,\n",
    "     'mortality' : col1}\n",
    "df = pd.DataFrame(d)\n",
    "df['mortality'] = df['mortality'].astype(float)\n",
    "df = df.sort('mortality', ascending = True)\n",
    "df.head(10)"
   ]
  },
  {
   "cell_type": "code",
   "execution_count": 37,
   "metadata": {
    "collapsed": false
   },
   "outputs": [
    {
     "data": {
      "text/html": [
       "<div>\n",
       "<table border=\"1\" class=\"dataframe\">\n",
       "  <thead>\n",
       "    <tr style=\"text-align: right;\">\n",
       "      <th></th>\n",
       "      <th>city</th>\n",
       "      <th>population</th>\n",
       "    </tr>\n",
       "  </thead>\n",
       "  <tbody>\n",
       "    <tr>\n",
       "      <th>1341</th>\n",
       "      <td>Shanghai</td>\n",
       "      <td>22315474</td>\n",
       "    </tr>\n",
       "    <tr>\n",
       "      <th>771</th>\n",
       "      <td>Istanbul</td>\n",
       "      <td>13710512</td>\n",
       "    </tr>\n",
       "    <tr>\n",
       "      <th>1527</th>\n",
       "      <td>Mumbai</td>\n",
       "      <td>12442373</td>\n",
       "    </tr>\n",
       "    <tr>\n",
       "      <th>479</th>\n",
       "      <td>Moskva</td>\n",
       "      <td>11979529</td>\n",
       "    </tr>\n",
       "    <tr>\n",
       "      <th>1340</th>\n",
       "      <td>Beijing</td>\n",
       "      <td>11716620</td>\n",
       "    </tr>\n",
       "    <tr>\n",
       "      <th>2810</th>\n",
       "      <td>São Paulo</td>\n",
       "      <td>11152344</td>\n",
       "    </tr>\n",
       "    <tr>\n",
       "      <th>1342</th>\n",
       "      <td>Tianjin</td>\n",
       "      <td>11090314</td>\n",
       "    </tr>\n",
       "    <tr>\n",
       "      <th>1064</th>\n",
       "      <td>Guangzhou</td>\n",
       "      <td>11071424</td>\n",
       "    </tr>\n",
       "    <tr>\n",
       "      <th>1582</th>\n",
       "      <td>Delhi</td>\n",
       "      <td>11034555</td>\n",
       "    </tr>\n",
       "    <tr>\n",
       "      <th>1067</th>\n",
       "      <td>Shenzhen</td>\n",
       "      <td>10358381</td>\n",
       "    </tr>\n",
       "  </tbody>\n",
       "</table>\n",
       "</div>"
      ],
      "text/plain": [
       "           city  population\n",
       "1341   Shanghai    22315474\n",
       "771    Istanbul    13710512\n",
       "1527     Mumbai    12442373\n",
       "479      Moskva    11979529\n",
       "1340    Beijing    11716620\n",
       "2810  São Paulo    11152344\n",
       "1342    Tianjin    11090314\n",
       "1064  Guangzhou    11071424\n",
       "1582      Delhi    11034555\n",
       "1067   Shenzhen    10358381"
      ]
     },
     "execution_count": 37,
     "metadata": {},
     "output_type": "execute_result"
    }
   ],
   "source": [
    "col1 = []\n",
    "col2 = []\n",
    "for element in document.iterfind('country'):\n",
    "    for subelement in element.getiterator('city'):\n",
    "        #print(subelement.findall('population')[-1].text)\n",
    "        col1.append(subelement.find('name').text)\n",
    "# Using findall and [-1] ensures one uses the latest value for population\n",
    "        if(subelement.find('population') != None):\n",
    "            col2.append(subelement.findall('population')[-1].text)\n",
    "        else:\n",
    "# Trick to add NaN for those cities with no reported population\n",
    "            col2.append(np.nan)\n",
    "\n",
    "d = {'population' : col2,\n",
    "     'city' : col1}\n",
    "df = pd.DataFrame(d)\n",
    "df['population'] = df['population'].astype(float)\n",
    "df = df.sort('population', ascending = False)\n",
    "df.head(10)"
   ]
  },
  {
   "cell_type": "code",
   "execution_count": 104,
   "metadata": {
    "collapsed": false
   },
   "outputs": [
    {
     "data": {
      "text/plain": [
       "ethnic group\n",
       "Han Chinese    1.245059e+09\n",
       "Indo-Aryan     8.718156e+08\n",
       "European       4.948722e+08\n",
       "African        3.183251e+08\n",
       "Dravidian      3.027137e+08\n",
       "Mestizo        1.577344e+08\n",
       "Bengali        1.467769e+08\n",
       "Russian        1.318570e+08\n",
       "Japanese       1.265342e+08\n",
       "Malay          1.219936e+08\n",
       "Name: real population, dtype: float64"
      ]
     },
     "execution_count": 104,
     "metadata": {},
     "output_type": "execute_result"
    }
   ],
   "source": [
    "list1 = []\n",
    "list2 = []\n",
    "list3 = []\n",
    "for child in document.getroot():\n",
    "    if (child.find('ethnicgroup') != None):\n",
    "        for i in range(len(child.findall('ethnicgroup'))):\n",
    "            list1.append(child.findall('ethnicgroup')[i].text)\n",
    "            list2.append(child.findall('ethnicgroup')[i].attrib['percentage'])\n",
    "            list3.append(child.findall('population')[-1].text)\n",
    "\n",
    "d = {'ethnic group' : list1,\n",
    "     'percentage' : list2,\n",
    "     'population' : list3 }\n",
    "\n",
    "df = pd.DataFrame(d)\n",
    "#df = df.groupby('ethnic group').size()\n",
    "df['population'] = df['population'].astype(float)\n",
    "df['percentage'] = df['percentage'].astype(float)\n",
    "prod = df['population'] * df['percentage'] /100\n",
    "df['real population'] = prod\n",
    "df.groupby('ethnic group')['real population'].sum().order('real population', ascending = False).head(10)"
   ]
  },
  {
   "cell_type": "code",
   "execution_count": 14,
   "metadata": {
    "collapsed": false
   },
   "outputs": [
    {
     "data": {
      "text/html": [
       "<div>\n",
       "<table border=\"1\" class=\"dataframe\">\n",
       "  <thead>\n",
       "    <tr style=\"text-align: right;\">\n",
       "      <th></th>\n",
       "      <th>country</th>\n",
       "      <th>length</th>\n",
       "      <th>river name</th>\n",
       "    </tr>\n",
       "  </thead>\n",
       "  <tbody>\n",
       "    <tr>\n",
       "      <th>164</th>\n",
       "      <td>[CO, BR, PE]</td>\n",
       "      <td>6448</td>\n",
       "      <td>Amazonas</td>\n",
       "    </tr>\n",
       "  </tbody>\n",
       "</table>\n",
       "</div>"
      ],
      "text/plain": [
       "          country  length river name\n",
       "164  [CO, BR, PE]    6448   Amazonas"
      ]
     },
     "execution_count": 14,
     "metadata": {},
     "output_type": "execute_result"
    }
   ],
   "source": [
    "list1 = []\n",
    "list2 = []\n",
    "list3 = []\n",
    "\n",
    "#& (child.find('country') != None)\n",
    "for child in document.getroot():\n",
    "    if ((child.find('length') != None) & ((child.find('located') != None))):\n",
    "#        print(child.find('length').text, child.find('country').text, child.find('name').text)\n",
    "        list1.append(child.find('length').text)\n",
    "        #print(child.find('located').attrib['country'])\n",
    "        location = []\n",
    "        for i in range(len(child.findall('located'))):\n",
    "            location.append(child.findall('located')[i].attrib['country']) \n",
    "        list2.append(location)\n",
    "        list3.append(child.find('name').text)\n",
    "\n",
    "d = {'length' : list1,\n",
    "     'country' : list2,\n",
    "     'river name' : list3 }\n",
    "\n",
    "df = pd.DataFrame(d)\n",
    "df['length'] = df['length'].astype(float)\n",
    "df = df.sort('length', ascending = False)\n",
    "df.head(1)\n"
   ]
  },
  {
   "cell_type": "code",
   "execution_count": 15,
   "metadata": {
    "collapsed": false
   },
   "outputs": [
    {
     "data": {
      "text/html": [
       "<div>\n",
       "<table border=\"1\" class=\"dataframe\">\n",
       "  <thead>\n",
       "    <tr style=\"text-align: right;\">\n",
       "      <th></th>\n",
       "      <th>area</th>\n",
       "      <th>country</th>\n",
       "      <th>river name</th>\n",
       "    </tr>\n",
       "  </thead>\n",
       "  <tbody>\n",
       "    <tr>\n",
       "      <th>52</th>\n",
       "      <td>386400</td>\n",
       "      <td>[R, KAZ, IR, TM]</td>\n",
       "      <td>Caspian Sea</td>\n",
       "    </tr>\n",
       "  </tbody>\n",
       "</table>\n",
       "</div>"
      ],
      "text/plain": [
       "      area           country   river name\n",
       "52  386400  [R, KAZ, IR, TM]  Caspian Sea"
      ]
     },
     "execution_count": 15,
     "metadata": {},
     "output_type": "execute_result"
    }
   ],
   "source": [
    "list1 = []\n",
    "list2 = []\n",
    "list3 = []\n",
    "\n",
    "#& (child.find('country') != None)\n",
    "for child in document.iterfind('lake'):\n",
    "    if ((child.find('area') != None) & ((child.find('located') != None))):\n",
    "#        print(child.find('length').text, child.find('country').text, child.find('name').text)\n",
    "        list1.append(child.find('area').text)\n",
    "        #print(child.find('located').attrib['country'])\n",
    "        location = []\n",
    "        for i in range(len(child.findall('located'))):\n",
    "            location.append(child.findall('located')[i].attrib['country']) \n",
    "        list2.append(location)\n",
    "        list3.append(child.find('name').text)\n",
    "\n",
    "d = {'area' : list1,\n",
    "     'country' : list2,\n",
    "     'river name' : list3 }\n",
    "\n",
    "df = pd.DataFrame(d)\n",
    "df['area'] = df['area'].astype(float)\n",
    "df = df.sort('area', ascending = False)\n",
    "df.head(1)"
   ]
  },
  {
   "cell_type": "code",
   "execution_count": 17,
   "metadata": {
    "collapsed": false
   },
   "outputs": [
    {
     "data": {
      "text/html": [
       "<div>\n",
       "<table border=\"1\" class=\"dataframe\">\n",
       "  <thead>\n",
       "    <tr style=\"text-align: right;\">\n",
       "      <th></th>\n",
       "      <th>airport name</th>\n",
       "      <th>country</th>\n",
       "      <th>elevation</th>\n",
       "    </tr>\n",
       "  </thead>\n",
       "  <tbody>\n",
       "    <tr>\n",
       "      <th>80</th>\n",
       "      <td>El Alto Intl</td>\n",
       "      <td>BOL</td>\n",
       "      <td>4063</td>\n",
       "    </tr>\n",
       "  </tbody>\n",
       "</table>\n",
       "</div>"
      ],
      "text/plain": [
       "    airport name country  elevation\n",
       "80  El Alto Intl     BOL       4063"
      ]
     },
     "execution_count": 17,
     "metadata": {},
     "output_type": "execute_result"
    }
   ],
   "source": [
    "list1 = []\n",
    "list2 = []\n",
    "list3 = []\n",
    "\n",
    "#& (child.find('country') != None)\n",
    "for child in document.iterfind('airport'):\n",
    "    if ((child.find('elevation') != None) & (child.attrib['country'] != None)):\n",
    "#        print(child.find('length').text, child.find('country').text, child.find('name').text)\n",
    "        list1.append(child.find('elevation').text)\n",
    "        list2.append(child.attrib['country'])\n",
    "        list3.append(child.find('name').text)\n",
    "\n",
    "d = {'elevation' : list1,\n",
    "     'country' : list2,\n",
    "     'airport name' : list3 }\n",
    "\n",
    "df = pd.DataFrame(d)\n",
    "df['elevation'] = df['elevation'].astype(float)\n",
    "df = df.sort('elevation', ascending = False)\n",
    "df.head(1)"
   ]
  },
  {
   "cell_type": "code",
   "execution_count": null,
   "metadata": {
    "collapsed": true
   },
   "outputs": [],
   "source": []
  }
 ],
 "metadata": {
  "kernelspec": {
   "display_name": "Python 2",
   "language": "python",
   "name": "python2"
  },
  "language_info": {
   "codemirror_mode": {
    "name": "ipython",
    "version": 2
   },
   "file_extension": ".py",
   "mimetype": "text/x-python",
   "name": "python",
   "nbconvert_exporter": "python",
   "pygments_lexer": "ipython2",
   "version": "2.7.10"
  }
 },
 "nbformat": 4,
 "nbformat_minor": 0
}
